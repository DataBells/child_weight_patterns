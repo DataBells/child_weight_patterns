{
 "cells": [
  {
   "cell_type": "markdown",
   "id": "c72c6e6b-117b-411b-9642-dc19fc6a0898",
   "metadata": {},
   "source": [
    "<div style=\"border: 2px solid gold; padding: 2px; border-radius: 2px; background-color: #f0f8ff;\">\n",
    "    <h2 style=\"color: #4682b4; text-align: center;\">🔥Epidemiological BMI of Children by Gender (2001-2023)🔥</h2> </div>"
   ]
  },
  {
   "cell_type": "markdown",
   "id": "1b58a594-d651-4f68-a521-7d7d903bd192",
   "metadata": {},
   "source": [
    "<div style=\"border: 2px solid gold; padding: 2px; border-radius: 2px; background-color: #f0f8ff;\">\n",
    "    <h2 style=\"color: #4682b4; text-align: center;\">👀Thank you for visiting my notebook👀</h2> </div>\n",
    "\n"
   ]
  },
  {
   "cell_type": "markdown",
   "id": "9ebdb387-52b1-46a1-9a93-81e5f37c6fc6",
   "metadata": {},
   "source": [
    "\n",
    "\n",
    "<div style=\"border: 2px solid gold; padding: 2px; border-radius: 2px; background-color: #f0f8ff;\">\n",
    "<h2 style=\"color: #4682b4; text-align: center;\">💡About This Dataset(2001-2023)💡</h2>\n",
    "\n",
    "<p style=\"color: #2f4f4f; font-size: 16px;\">\n",
    "    <strong style=\"color: #4682b4;\">\"Epidemiological\"</strong> refers to the study of how health conditions, such as diseases and BMI, spread and affect populations.\n",
    "</p>\n",
    "\n",
    "<p style=\"color: #2f4f4f; font-size: 16px;\">\n",
    "    <strong style=\"color: #4682b4;\">\"Body Mass Index\" (BMI)</strong> helps assess if an individual has a healthy body weight relative to their height. It categorizes people as underweight, normal weight, overweight, or obese.\n",
    "</p>\n",
    "\n",
    "<p style=\"color: #2f4f4f; font-size: 16px;\">\n",
    "    This dataset analyzes BMI data by gender from 2001-2023, offering insights into trends across different populations and genders, with a focus on identifying health patterns and risks.\n",
    "</p>\n",
    "\n",
    "<h3 style=\"color: #4682b4; text-align: center;\">Why Use This Dataset?</h3>\n",
    "\n",
    "<p style=\"color: #2f4f4f; font-size: 16px;\">\n",
    "    This dataset offers valuable insights into childhood BMI trends, categorized by gender, hospital board, and school year. It is useful for analyzing health trends, building predictive models, and offering actionable health insights.\n",
    "</p>\n",
    "\n",
    "<h4 style=\"color: #4682b4;\">Key Features</h4>\n",
    "<ul style=\"color: #2f4f4f; font-size: 16px;\">\n",
    "    <li><strong>Regional & Demographic Analysis</strong>: Explore BMI trends across hospitals</li>\n",
    "    <li><strong>Time-Based Trends</strong>: Observe changes in BMI categories over time</li>\n",
    "    <li><strong>Predictive Modeling</strong>: Build models to predict future BMI distributions</li>\n",
    "</ul>\n",
    "\n",
    "\n",
    "<p style=\"color: #2f4f4f; font-size: 16px;\">\n",
    "        This dataset offers more than 500 records and 11 columns to identify potential trends.\n",
    "</p>\n",
    "\n",
    "<h3 style=\"color: #4682b4;\">Columns</h3>\n",
    "<ul style=\"color: #2f4f4f; font-size: 16px;\">\n",
    "        <li><strong>SchoolYear</strong>: The academic year; <em>Text</em></li>\n",
    "        <li><strong>NameHospital</strong>: Hospital or hospital board name; <em>Text</em></li>\n",
    "        <li><strong>Sex</strong>: The child's gender (Male/Female); <em>Text</em></li>\n",
    "        <li><strong>EpiUnderweight</strong>: Children with underweight BMI; <em>Number</em></li>\n",
    "        <li><strong>EpiHealthyWeight</strong>: Children with healthy weight BMI; <em>Number</em></li>\n",
    "        <li><strong>EpiOverweight</strong>: Children with overweight BMI; <em>Number</em></li>\n",
    "        <li><strong>EpiObese</strong>: Children with obesity; <em>Number</em></li>\n",
    "        <li><strong>EpiOverweightAndObese</strong>: Combined Children of overweight and obese; <em>Number</em></li>\n",
    "        <li><strong>ValidCounts</strong>: Valid child entries; <em>Number</em></li>\n",
    "        <li><strong>UnvalidCounts</strong>: Invalid child entries; <em>Number</em></li>\n",
    "        <li><strong>TotalCounts</strong>: Number of children; <em>Number</em></li>\n",
    "</ul>\n",
    "\n",
    "<p style=\"color: #2f4f4f; font-size: 16px;\">\n",
    "    <strong>Source</strong>: Open Data from NHS – UK Open Government Licence (OGL)\n",
    "</p>\n",
    "\n",
    "</div>\n",
    "\n"
   ]
  },
  {
   "cell_type": "code",
   "execution_count": null,
   "id": "8e05fdf6-496f-4c7e-8aca-2a780b134d17",
   "metadata": {},
   "outputs": [],
   "source": []
  },
  {
   "cell_type": "code",
   "execution_count": null,
   "id": "40536a38-3539-4b4c-a1f2-28d221b4d470",
   "metadata": {},
   "outputs": [],
   "source": []
  },
  {
   "cell_type": "code",
   "execution_count": null,
   "id": "92d82f09-fe01-4166-9a75-471ce7062912",
   "metadata": {},
   "outputs": [],
   "source": []
  },
  {
   "cell_type": "code",
   "execution_count": null,
   "id": "104adcd8-a0dc-4823-90ef-95b9b9c5059e",
   "metadata": {},
   "outputs": [],
   "source": []
  },
  {
   "cell_type": "code",
   "execution_count": null,
   "id": "9a52487b-8d85-435d-8d27-bb212e5eb4ad",
   "metadata": {},
   "outputs": [],
   "source": []
  },
  {
   "cell_type": "code",
   "execution_count": null,
   "id": "46b5cc9c-2fcd-4ef3-81f4-52b3379a0a63",
   "metadata": {},
   "outputs": [],
   "source": []
  },
  {
   "cell_type": "code",
   "execution_count": null,
   "id": "4ede3869-d038-4d7a-97cc-7d8093656f53",
   "metadata": {},
   "outputs": [],
   "source": []
  },
  {
   "cell_type": "code",
   "execution_count": null,
   "id": "bd5f7e33-1d57-41a9-974a-c46a409251bc",
   "metadata": {},
   "outputs": [],
   "source": []
  },
  {
   "cell_type": "code",
   "execution_count": null,
   "id": "3eca3473-e5e9-4c75-a665-04839f62dac5",
   "metadata": {},
   "outputs": [],
   "source": []
  },
  {
   "cell_type": "code",
   "execution_count": null,
   "id": "da16a547-7468-47e9-8ea4-6ea3f63f7276",
   "metadata": {},
   "outputs": [],
   "source": []
  },
  {
   "cell_type": "code",
   "execution_count": null,
   "id": "39f9578f-2d12-4607-856e-5871af982370",
   "metadata": {},
   "outputs": [],
   "source": []
  },
  {
   "cell_type": "code",
   "execution_count": null,
   "id": "d7c92984-d06f-46cd-bf2f-277aff1ff36c",
   "metadata": {},
   "outputs": [],
   "source": []
  },
  {
   "cell_type": "code",
   "execution_count": null,
   "id": "848e5f2d-d8c6-4925-9b31-34dc7f043f8d",
   "metadata": {},
   "outputs": [],
   "source": []
  },
  {
   "cell_type": "code",
   "execution_count": null,
   "id": "cd48905d-f80c-4dc0-a64d-726420a9749b",
   "metadata": {},
   "outputs": [],
   "source": []
  },
  {
   "cell_type": "code",
   "execution_count": null,
   "id": "cbd8a1a5-846a-4446-9728-db661148342a",
   "metadata": {},
   "outputs": [],
   "source": []
  },
  {
   "cell_type": "code",
   "execution_count": null,
   "id": "cf5d8dbd-2ec1-4a5e-b66f-cca17635c75e",
   "metadata": {},
   "outputs": [],
   "source": []
  },
  {
   "cell_type": "code",
   "execution_count": null,
   "id": "79644ad4-61b6-4ba7-ae9c-2a8562ac611e",
   "metadata": {},
   "outputs": [],
   "source": []
  },
  {
   "cell_type": "code",
   "execution_count": null,
   "id": "d480ba49-163a-4fff-8b0b-147dd6acb1e4",
   "metadata": {},
   "outputs": [],
   "source": []
  },
  {
   "cell_type": "code",
   "execution_count": null,
   "id": "f567ef6e-1d51-46a5-830e-d9d37bc52afe",
   "metadata": {},
   "outputs": [],
   "source": []
  },
  {
   "cell_type": "code",
   "execution_count": null,
   "id": "e7880dc5-d412-43d1-addd-be6750155c4a",
   "metadata": {},
   "outputs": [],
   "source": []
  },
  {
   "cell_type": "code",
   "execution_count": null,
   "id": "c08c92e6-8b08-4d6e-b2fb-d743b1391e0b",
   "metadata": {},
   "outputs": [],
   "source": []
  },
  {
   "cell_type": "code",
   "execution_count": null,
   "id": "3b7ef5ad-f988-4c1b-a6fc-2bc0d53ec137",
   "metadata": {},
   "outputs": [],
   "source": []
  },
  {
   "cell_type": "code",
   "execution_count": null,
   "id": "67c99ba6-bbd9-4624-a42c-927fd3ba18ad",
   "metadata": {},
   "outputs": [],
   "source": []
  },
  {
   "cell_type": "code",
   "execution_count": null,
   "id": "767c75c2-0a54-416c-b4bf-08ab8ad35fdf",
   "metadata": {},
   "outputs": [],
   "source": []
  },
  {
   "cell_type": "code",
   "execution_count": null,
   "id": "67a06628-7515-4f85-98d0-bf18f1ae095b",
   "metadata": {},
   "outputs": [],
   "source": []
  },
  {
   "cell_type": "code",
   "execution_count": null,
   "id": "d963dd31-5597-4bde-b956-d9050264cf68",
   "metadata": {},
   "outputs": [],
   "source": []
  },
  {
   "cell_type": "code",
   "execution_count": null,
   "id": "e2cc7479-9fc4-4a05-b65c-a5c34f597b09",
   "metadata": {},
   "outputs": [],
   "source": []
  },
  {
   "cell_type": "code",
   "execution_count": null,
   "id": "1beb3aec-c8d8-4ba0-ac66-74a8f0f661e6",
   "metadata": {},
   "outputs": [],
   "source": []
  },
  {
   "cell_type": "code",
   "execution_count": null,
   "id": "7a14e72d-6b37-43ee-99d4-dc00248fde0d",
   "metadata": {},
   "outputs": [],
   "source": []
  },
  {
   "cell_type": "code",
   "execution_count": null,
   "id": "6935f1ab-4f4e-4743-b9a9-44234800d543",
   "metadata": {},
   "outputs": [],
   "source": []
  },
  {
   "cell_type": "code",
   "execution_count": null,
   "id": "a8f16eba-d9ce-40bd-842f-a857142e7abe",
   "metadata": {},
   "outputs": [],
   "source": []
  },
  {
   "cell_type": "code",
   "execution_count": null,
   "id": "e66a1d38-943f-47cc-b5d5-a731bd028a7c",
   "metadata": {},
   "outputs": [],
   "source": []
  },
  {
   "cell_type": "code",
   "execution_count": null,
   "id": "2c6ba761-336d-418d-a561-659656411baf",
   "metadata": {},
   "outputs": [],
   "source": []
  },
  {
   "cell_type": "code",
   "execution_count": null,
   "id": "b45ac9ed-19be-4e86-b2e1-828662d74bc7",
   "metadata": {},
   "outputs": [],
   "source": []
  },
  {
   "cell_type": "code",
   "execution_count": null,
   "id": "61f836cb-80f5-4015-b608-8e6351405f7b",
   "metadata": {},
   "outputs": [],
   "source": []
  },
  {
   "cell_type": "code",
   "execution_count": null,
   "id": "64494c57-020f-4363-8191-852de520dd05",
   "metadata": {},
   "outputs": [],
   "source": []
  },
  {
   "cell_type": "code",
   "execution_count": null,
   "id": "d03feb9f-eb1c-4a89-9539-89c0f67338ed",
   "metadata": {},
   "outputs": [],
   "source": []
  },
  {
   "cell_type": "code",
   "execution_count": null,
   "id": "9378fb85-957b-4520-874e-09fe76eb444c",
   "metadata": {},
   "outputs": [],
   "source": []
  },
  {
   "cell_type": "code",
   "execution_count": null,
   "id": "586852cc-9d8a-44af-ae8a-7f634476fa04",
   "metadata": {},
   "outputs": [],
   "source": []
  },
  {
   "cell_type": "code",
   "execution_count": null,
   "id": "bcc0ee2b-1810-4e65-bbfe-1d14c575bdb6",
   "metadata": {},
   "outputs": [],
   "source": []
  },
  {
   "cell_type": "code",
   "execution_count": null,
   "id": "2a5810a0-1d93-4f85-8e49-894820187b4b",
   "metadata": {},
   "outputs": [],
   "source": []
  },
  {
   "cell_type": "code",
   "execution_count": null,
   "id": "4fa1eaf5-b61e-4659-8c63-7111e2bf9da5",
   "metadata": {},
   "outputs": [],
   "source": []
  },
  {
   "cell_type": "code",
   "execution_count": null,
   "id": "35a52e2e-9566-4384-b0ee-80f97c0c956b",
   "metadata": {},
   "outputs": [],
   "source": []
  },
  {
   "cell_type": "code",
   "execution_count": null,
   "id": "47e911fb-7e88-4047-9c2b-68615a9f7c1d",
   "metadata": {},
   "outputs": [],
   "source": []
  },
  {
   "cell_type": "code",
   "execution_count": null,
   "id": "da962b0c-9366-4251-85b8-0a2c3a091282",
   "metadata": {},
   "outputs": [],
   "source": []
  },
  {
   "cell_type": "code",
   "execution_count": null,
   "id": "f62f6e9c-f205-41f3-a271-a2c3da6daff3",
   "metadata": {},
   "outputs": [],
   "source": []
  },
  {
   "cell_type": "code",
   "execution_count": null,
   "id": "eeec21d5-b682-4599-8a1f-9a0274448867",
   "metadata": {},
   "outputs": [],
   "source": []
  },
  {
   "cell_type": "code",
   "execution_count": null,
   "id": "7ba4f324-48c7-4b99-93c3-231041a63ea2",
   "metadata": {},
   "outputs": [],
   "source": []
  }
 ],
 "metadata": {
  "kernelspec": {
   "display_name": "Python 3 (ipykernel)",
   "language": "python",
   "name": "python3"
  },
  "language_info": {
   "codemirror_mode": {
    "name": "ipython",
    "version": 3
   },
   "file_extension": ".py",
   "mimetype": "text/x-python",
   "name": "python",
   "nbconvert_exporter": "python",
   "pygments_lexer": "ipython3",
   "version": "3.13.0"
  }
 },
 "nbformat": 4,
 "nbformat_minor": 5
}
